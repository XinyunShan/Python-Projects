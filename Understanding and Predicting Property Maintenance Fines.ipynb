{
 "cells": [
  {
   "cell_type": "markdown",
   "metadata": {},
   "source": [
    "---\n",
    "\n",
    "_You are currently looking at **version 1.0** of this notebook. To download notebooks and datafiles, as well as get help on Jupyter notebooks in the Coursera platform, visit the [Jupyter Notebook FAQ](https://www.coursera.org/learn/python-machine-learning/resources/bANLa) course resource._\n",
    "\n",
    "---"
   ]
  },
  {
   "cell_type": "markdown",
   "metadata": {},
   "source": [
    "## Applied Machine Learning in Python Assignment 4 - Understanding and Predicting Property Maintenance Fines\n",
    "\n",
    "This assignment is based on a data challenge from the Michigan Data Science Team ([MDST](http://midas.umich.edu/mdst/)). \n",
    "\n",
    "The Michigan Data Science Team ([MDST](http://midas.umich.edu/mdst/)) and the Michigan Student Symposium for Interdisciplinary Statistical Sciences ([MSSISS](https://sites.lsa.umich.edu/mssiss/)) have partnered with the City of Detroit to help solve one of the most pressing problems facing Detroit - blight. [Blight violations](http://www.detroitmi.gov/How-Do-I/Report/Blight-Complaint-FAQs) are issued by the city to individuals who allow their properties to remain in a deteriorated condition. Every year, the city of Detroit issues millions of dollars in fines to residents and every year, many of these fines remain unpaid. Enforcing unpaid blight fines is a costly and tedious process, so the city wants to know: how can we increase blight ticket compliance?\n",
    "\n",
    "There are two data files provided for use in training and validating models: train.csv and test.csv. Each row in these two files corresponds to a single blight ticket, and includes information about when, why, and to whom each ticket was issued. The target variable is compliance, which is True if the ticket was paid early, on time, or within one month of the hearing data, False if the ticket was paid after the hearing date or not at all, and Null if the violator was found not responsible. Compliance, as well as a handful of other variables that will not be available at test-time, are only included in train.csv.\n",
    "\n",
    "Note: All tickets where the violators were found not responsible are not considered during evaluation. They are included in the training set as an additional source of data for visualization, and to enable unsupervised and semi-supervised approaches. However, they are not included in the test set.\n",
    "\n",
    "<br>\n",
    "\n",
    "**File descriptions** (Use only this data for training your model!)\n",
    "\n",
    "    train.csv - the training set (all tickets issued 2004-2011)\n",
    "    test.csv - the test set (all tickets issued 2012-2016)\n",
    "    addresses.csv & latlons.csv - mapping from ticket id to addresses, and from addresses to lat/lon coordinates. \n",
    "     Note: misspelled addresses may be incorrectly geolocated.\n",
    "\n",
    "<br>\n",
    "\n",
    "**Data fields**\n",
    "\n",
    "train.csv & test.csv (features we can use in our model)\n",
    "\n",
    "    ticket_id - unique identifier for tickets\n",
    "    agency_name - Agency that issued the ticket\n",
    "    inspector_name - Name of inspector that issued the ticket\n",
    "    violator_name - Name of the person/organization that the ticket was issued to\n",
    "    violation_street_number, violation_street_name, violation_zip_code - Address where the violation occurred\n",
    "    mailing_address_str_number, mailing_address_str_name, city, state, zip_code, non_us_str_code, country - Mailing address of the violator\n",
    "    ticket_issued_date - Date and time the ticket was issued\n",
    "    hearing_date - Date and time the violator's hearing was scheduled\n",
    "    violation_code, violation_description - Type of violation\n",
    "    disposition - Judgment and judgement type\n",
    "    fine_amount - Violation fine amount, excluding fees\n",
    "    admin_fee - $20 fee assigned to responsible judgments\n",
    "state_fee - $10 fee assigned to responsible judgments\n",
    "    late_fee - 10% fee assigned to responsible judgments\n",
    "    discount_amount - discount applied, if any\n",
    "    clean_up_cost - DPW clean-up or graffiti removal cost\n",
    "    judgment_amount - Sum of all fines and fees\n",
    "    grafitti_status - Flag for graffiti violations\n",
    "    \n",
    "train.csv only (highly correlated to compliance)\n",
    "\n",
    "    payment_amount - Amount paid, if any\n",
    "    payment_date - Date payment was made, if it was received\n",
    "    payment_status - Current payment status as of Feb 1 2017\n",
    "    balance_due - Fines and fees still owed\n",
    "    collection_status - Flag for payments in collections\n",
    "    compliance [target variable for prediction] \n",
    "     Null = Not responsible\n",
    "     0 = Responsible, non-compliant\n",
    "     1 = Responsible, compliant\n",
    "    compliance_detail - More information on why each ticket was marked compliant or non-compliant\n",
    "\n",
    "In this research, we will only use the training data to built and evalute the model, since compliance value is not given in test file.  "
   ]
  },
  {
   "cell_type": "code",
   "execution_count": 1,
   "metadata": {
    "collapsed": true,
    "scrolled": true
   },
   "outputs": [],
   "source": [
    "import pandas as pd\n",
    "import numpy as np\n",
    "import matplotlib.pyplot as plt\n",
    "from sklearn import preprocessing\n",
    "from sklearn.ensemble import GradientBoostingClassifier\n",
    "from sklearn.ensemble import RandomForestClassifier\n",
    "from sklearn.model_selection import train_test_split\n",
    "from sklearn.metrics import roc_curve, auc\n",
    "from sklearn.model_selection import GridSearchCV"
   ]
  },
  {
   "cell_type": "markdown",
   "metadata": {
    "collapsed": true
   },
   "source": [
    "## Feature Importance\n",
    "In this part we will calculate the feature importance by RandomForest for training data\n",
    "During all the given features, we removed several features in our research for following reasons:\n",
    "\n",
    "violation_zip_code, non_us_str_code - left blank\n",
    "country - only have one value: USA\n",
    "inspector_name, violator_name, violation_street_name, mailing_address_str_name, violation_description - considered highly correlated with other numeric features\n",
    "\n",
    "For ticket_issued_date and hearing_date, we calculate the date difference between them\n"
   ]
  },
  {
   "cell_type": "code",
   "execution_count": 3,
   "metadata": {},
   "outputs": [
    {
     "name": "stderr",
     "output_type": "stream",
     "text": [
      "C:\\Users\\xinyu\\Anaconda2\\lib\\site-packages\\ipykernel_launcher.py:34: DataConversionWarning: A column-vector y was passed when a 1d array was expected. Please change the shape of y to (n_samples,), for example using ravel().\n"
     ]
    },
    {
     "data": {
      "text/plain": [
       "agency_name                   0.010176\n",
       "violation_street_number       0.136422\n",
       "mailing_address_str_number    0.135613\n",
       "state                         0.015144\n",
       "disposition                   0.076575\n",
       "fine_amount                   0.015588\n",
       "admin_fee                     0.000000\n",
       "state_fee                     0.000000\n",
       "late_fee                      0.108863\n",
       "discount_amount               0.055107\n",
       "clean_up_cost                 0.000000\n",
       "judgment_amount               0.024747\n",
       "lat                           0.135974\n",
       "lon                           0.139999\n",
       "diff                          0.145793\n",
       "dtype: float32"
      ]
     },
     "execution_count": 3,
     "metadata": {},
     "output_type": "execute_result"
    }
   ],
   "source": [
    "def feature_importance():\n",
    "    cols = ['ticket_id','agency_name','violation_street_number','mailing_address_str_number','state',\n",
    "           'ticket_issued_date','hearing_date','disposition','fine_amount','admin_fee','state_fee','late_fee','discount_amount',\n",
    "           'clean_up_cost','judgment_amount']\n",
    "    train_FI = pd.read_csv('train.csv', usecols=cols+['compliance'])\n",
    "    address_FI = pd.read_csv('addresses.csv')\n",
    "    latlon_FI = pd.read_csv('latlons.csv')\n",
    "\n",
    "    address2_FI = address_FI.merge(latlon_FI, how = 'inner', on = ['address'])\n",
    "    train2_FI = train_FI.merge(address2_FI, how = 'inner', on = ['ticket_id'])\n",
    "    \n",
    "    train2_FI = train2_FI.loc[train2_FI['compliance'].notnull()]\n",
    "    train2_FI.fillna(0, inplace=True)\n",
    "        \n",
    "    train2_FI['diff'] = pd.to_datetime(train2_FI['hearing_date']) - pd.to_datetime(train2_FI['ticket_issued_date'])\n",
    "    train2_FI['diff'] = np.array(train2_FI['diff']).astype(int)\n",
    "    \n",
    "    cleanup_nums = {'agency_name': {'Neighborhood City Halls': 1, 'Health Department': 2, 'Detroit Police Department': 3, 'Department of Public Works': 4, 'Buildings, Safety Engineering & Env Department': 5},\n",
    "                    'state': {'AK': 1, 'AL': 2, 'AR': 3, 'AZ': 4, 'BC': 5, 'BL': 6, 'CA': 7, 'CO': 8, 'CT': 9, 'DC': 10, 'DE': 11, 'FL': 12, 'GA': 13, 'HI': 14, 'IA': 15, 'ID': 16, 'IL': 17, 'IN': 18, 'KS': 19, 'KY': 20,\n",
    "                             'LA': 21, 'MA': 22, 'MD': 23, 'ME': 24, 'MI': 25, 'MN': 26, 'MO': 27, 'MS': 28, 'MT': 29, 'NB': 30, 'NC': 31, 'ND': 32, 'NH': 33, 'NJ': 34, 'NM': 35, 'NV': 36, 'NY': 37, 'OH': 38, 'OK': 39, 'ON': 40,\n",
    "                             'OR': 41, 'PA': 42, 'PR': 43, 'QC': 44, 'QL': 45, 'RI': 46, 'SC': 47, 'SD': 48, 'TN': 49, 'TX': 50, 'UK': 51, 'UT': 52, 'VA': 53, 'VI': 54, 'VT': 55, 'WA': 56, 'WI': 57, 'WV': 58, 'WY': 59},\n",
    "                    'disposition': {'Not responsible by City Dismissal': 1, 'Not responsible by Determination': 2, 'Not responsible by Dismissal': 3, 'PENDING JUDGMENT': 4,\n",
    "                                   'Responsible (Fine Waived) by Deter': 5, 'Responsible by Admission': 6, 'Responsible by Default': 7, 'Responsible by Determination': 8, 'SET-ASIDE (PENDING JUDGMENT)': 9}}\n",
    "    train2_FI.replace(cleanup_nums, inplace=True)\n",
    "    \n",
    "    y_train_FI = train2_FI[['compliance']].copy()\n",
    "    X_train_FI = train2_FI.drop('ticket_id',axis=1)\n",
    "    X_train_FI = X_train_FI.drop('compliance',axis=1)\n",
    "    X_train_FI = X_train_FI.drop('ticket_issued_date',axis=1)\n",
    "    X_train_FI = X_train_FI.drop('hearing_date',axis=1)\n",
    "    X_train_FI = X_train_FI.drop('address',axis=1)\n",
    "        \n",
    "    clf = RandomForestClassifier()\n",
    "    clf.fit(X_train_FI, y_train_FI)\n",
    "\n",
    "    importance = clf.feature_importances_\n",
    "    index=list(X_train_FI.columns.values)\n",
    "    answer = pd.Series(data=importance,index=index,dtype='float32')\n",
    "    \n",
    "    return answer\n",
    "feature_importance()"
   ]
  },
  {
   "cell_type": "markdown",
   "metadata": {
    "collapsed": true
   },
   "source": [
    "## Modeling and Evaluation\n",
    "From the feature importance given, following six features are selected for our model:\n",
    "violation_street_number, mailing_address_str_number, late_fee, lat, lon and difference of data \n",
    "\n",
    "The model is built with GradientBoostingClassifier and the parameters are fixed by GridSearchCV\n",
    "\n",
    "The evaluation metric for this research is the Area Under the ROC Curve (AUC)."
   ]
  },
  {
   "cell_type": "code",
   "execution_count": 2,
   "metadata": {},
   "outputs": [
    {
     "data": {
      "image/png": "[encoded data removed]",
      "text/plain": [
       "<matplotlib.figure.Figure at 0xabf3048>"
      ]
     },
     "metadata": {},
     "output_type": "display_data"
    },
    {
     "data": {
      "text/plain": [
       "0.73474826572101715"
      ]
     },
     "execution_count": 2,
     "metadata": {},
     "output_type": "execute_result"
    }
   ],
   "source": [
    "def blight_model():\n",
    "    cols = ['ticket_id','violation_street_number','mailing_address_str_number','late_fee','ticket_issued_date','hearing_date']\n",
    "    train = pd.read_csv('train.csv', usecols=cols+['compliance'])\n",
    "    address = pd.read_csv('addresses.csv')\n",
    "    latlon = pd.read_csv('latlons.csv')\n",
    "    \n",
    "    address2 = address.merge(latlon, how = 'inner', on = ['address'])\n",
    "    train2 = train.merge(address2, how = 'inner', on = ['ticket_id'])\n",
    "    \n",
    "    \n",
    "    train2 = train2.loc[train2['compliance'].notnull()]\n",
    "    train2.fillna(0, inplace=True)\n",
    "    \n",
    "    train2['diff'] = pd.to_datetime(train2['hearing_date']) - pd.to_datetime(train2['ticket_issued_date'])\n",
    "    train2['diff'] = np.array(train2['diff']).astype(int)    \n",
    "\n",
    "    \n",
    "    X_train = train2[['violation_street_number','mailing_address_str_number','late_fee','lat','lon','diff']].copy()\n",
    "    y_train = train2[['compliance']].copy()\n",
    "\n",
    "    scaler = preprocessing.MinMaxScaler()    \n",
    "    X_train = scaler.fit_transform(X_train)\n",
    "\n",
    "    X_train2, X_test2, y_train2, y_test2 = train_test_split(X_train, y_train, random_state = 0)\n",
    "    \n",
    "    parameters = {'max_features':[1,2,3,4,5], 'max_depth':[1,2,3,4,5]}\n",
    "    GBC = GradientBoostingClassifier()\n",
    "    clf = GridSearchCV(GBC, parameters)\n",
    "    clf.fit(X_train2, y_train2.values.ravel())\n",
    "    \n",
    "    y_score_fit = clf.predict_proba(X_test2)[:,1]\n",
    "    fpr_fit, tpr_fit, _ = roc_curve(y_test2, y_score_fit)\n",
    "    roc_auc_fit = auc(fpr_fit, tpr_fit)\n",
    "       \n",
    "    plt.figure()\n",
    "    plt.xlim([-0.01, 1.00])\n",
    "    plt.ylim([-0.01, 1.01])\n",
    "    plt.plot(fpr_fit, tpr_fit, lw=3, label='LogRegr ROC curve (area = {:0.2f})'.format(roc_auc_fit))\n",
    "    plt.xlabel('False Positive Rate', fontsize=16)\n",
    "    plt.ylabel('True Positive Rate', fontsize=16)\n",
    "    plt.title('ROC curve (1-of-10 digits classifier)', fontsize=16)\n",
    "    plt.legend(loc='lower right', fontsize=13)\n",
    "    plt.plot([0, 1], [0, 1], color='navy', lw=3, linestyle='--')\n",
    "    plt.axes().set_aspect('equal')\n",
    "    plt.show()\n",
    "    \n",
    "    return roc_auc_fit\n",
    "blight_model()"
   ]
  },
  {
   "cell_type": "code",
   "execution_count": null,
   "metadata": {
    "collapsed": true
   },
   "outputs": [],
   "source": []
  }
 ],
 "metadata": {
  "coursera": {
   "course_slug": "python-machine-learning",
   "graded_item_id": "nNS8l",
   "launcher_item_id": "yWWk7",
   "part_id": "w8BSS"
  },
  "kernelspec": {
   "display_name": "Python 2",
   "language": "python",
   "name": "python2"
  },
  "language_info": {
   "codemirror_mode": {
    "name": "ipython",
    "version": 2
   },
   "file_extension": ".py",
   "mimetype": "text/x-python",
   "name": "python",
   "nbconvert_exporter": "python",
   "pygments_lexer": "ipython2",
   "version": "2.7.13"
  }
 },
 "nbformat": 4,
 "nbformat_minor": 2
}
